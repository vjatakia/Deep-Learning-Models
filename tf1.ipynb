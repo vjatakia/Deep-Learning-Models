{
 "cells": [
  {
   "cell_type": "code",
   "execution_count": 11,
   "metadata": {
    "collapsed": true
   },
   "outputs": [],
   "source": [
    "import tensorflow as tf"
   ]
  },
  {
   "cell_type": "code",
   "execution_count": 12,
   "metadata": {},
   "outputs": [
    {
     "name": "stdout",
     "output_type": "stream",
     "text": [
      "11\n",
      "-1\n",
      "30\n",
      "0.833333333333\n"
     ]
    }
   ],
   "source": [
    "\n",
    "\n",
    "x1= tf.constant(5)\n",
    "x2 = tf.constant(6)\n",
    "\n",
    "res1 = tf.add(x1,x2)\n",
    "res2 = tf.subtract(x1,x2)\n",
    "res3 = tf.multiply(x1,x2)\n",
    "res4 = tf.divide(x1,x2)\n",
    "\n",
    "\n",
    "sess = tf.Session()\n",
    "print(sess.run(res1))\n",
    "print(sess.run(res2))\n",
    "print(sess.run(res3))\n",
    "print(sess.run(res4))\n",
    "\n",
    "sess.close()"
   ]
  },
  {
   "cell_type": "markdown",
   "metadata": {},
   "source": [
    "## Another way of starting a session which does not need a separate close() call is as: ##"
   ]
  },
  {
   "cell_type": "code",
   "execution_count": 70,
   "metadata": {},
   "outputs": [
    {
     "name": "stdout",
     "output_type": "stream",
     "text": [
      "11\n",
      "-1\n",
      "30\n",
      "0.833333333333\n"
     ]
    }
   ],
   "source": [
    "with tf.Session() as sess:\n",
    "    out1 = sess.run(res1)\n",
    "    out2 = sess.run(res2)\n",
    "    out3 = sess.run(res3)\n",
    "    out4 = sess.run(res4)\n",
    "    \n",
    "    print(out1)\n",
    "    print(out2)\n",
    "    print(out3)\n",
    "    print(out4)\n",
    "    "
   ]
  },
  {
   "cell_type": "markdown",
   "metadata": {},
   "source": [
    "Checking the variable values after closing the session()"
   ]
  },
  {
   "cell_type": "code",
   "execution_count": 71,
   "metadata": {},
   "outputs": [
    {
     "name": "stdout",
     "output_type": "stream",
     "text": [
      "11\n",
      "-1\n",
      "30\n",
      "0.833333333333\n"
     ]
    }
   ],
   "source": [
    "print(out1)\n",
    "print(out2)\n",
    "print(out3)\n",
    "print(out4)"
   ]
  },
  {
   "cell_type": "markdown",
   "metadata": {},
   "source": [
    "# Creating a neural network using MNIST dataset #"
   ]
  },
  {
   "cell_type": "markdown",
   "metadata": {
    "collapsed": true
   },
   "source": [
    "Basic idea : i/p +weights> hidden layer 1 (activation) +weights> hidden layer 2 (activation) + weights> output layer \n",
    "\n",
    "compare output to intended output > cost function\n",
    "optimization function (optimizer): to minimize cost (Adam optimizer, SGD, Adagrad)\n",
    "\n",
    "backpropogation\n",
    "\n",
    "(feedforward + backpropogation = epoch)"
   ]
  },
  {
   "cell_type": "code",
   "execution_count": 4,
   "metadata": {
    "collapsed": true
   },
   "outputs": [],
   "source": [
    "import tensorflow as tf\n",
    "from tensorflow.examples.tutorials.mnist import input_data"
   ]
  },
  {
   "cell_type": "code",
   "execution_count": 5,
   "metadata": {},
   "outputs": [
    {
     "name": "stdout",
     "output_type": "stream",
     "text": [
      "Successfully downloaded train-images-idx3-ubyte.gz 9912422 bytes.\n",
      "Extracting /tmp/data/train-images-idx3-ubyte.gz\n",
      "Successfully downloaded train-labels-idx1-ubyte.gz 28881 bytes.\n",
      "Extracting /tmp/data/train-labels-idx1-ubyte.gz\n",
      "Successfully downloaded t10k-images-idx3-ubyte.gz 1648877 bytes.\n",
      "Extracting /tmp/data/t10k-images-idx3-ubyte.gz\n",
      "Successfully downloaded t10k-labels-idx1-ubyte.gz 4542 bytes.\n",
      "Extracting /tmp/data/t10k-labels-idx1-ubyte.gz\n"
     ]
    }
   ],
   "source": [
    "mnist = input_data.read_data_sets(\"/tmp/data/\", one_hot = True) #one hot is useful for multiclass classification"
   ]
  },
  {
   "cell_type": "code",
   "execution_count": 27,
   "metadata": {
    "collapsed": true
   },
   "outputs": [],
   "source": [
    "n_nodes_hl1 = 500 #no of nodes in hl1\n",
    "n_nodes_hl2 = 600 #no of nodes in hl2\n",
    "n_nodes_hl3 = 400 #no of nodes in hl3\n",
    "\n",
    "n_classes = 10 #no of classes [0-9] \n",
    "batch_size = 100"
   ]
  },
  {
   "cell_type": "code",
   "execution_count": 28,
   "metadata": {
    "collapsed": true
   },
   "outputs": [],
   "source": [
    "#height x width\n",
    "x = tf.placeholder('float', [None, 784])\n",
    "y = tf.placeholder('float')"
   ]
  },
  {
   "cell_type": "code",
   "execution_count": 40,
   "metadata": {
    "collapsed": true
   },
   "outputs": [],
   "source": [
    "##################### DEFINING THE COMPUTATIONAL GRAPH ##############################\n",
    "\n",
    "#(input *weights)+biases\n",
    "def neural_network_model(data):\n",
    "    \n",
    "    hidden_layer_1 = {'Weights':tf.Variable(tf.random_normal([784,n_nodes_hl1])),\n",
    "                     'biases':tf.Variable(tf.random_normal([n_nodes_hl1]))}\n",
    "    \n",
    "    hidden_layer_2 = {'Weights':tf.Variable(tf.random_normal([n_nodes_hl1,n_nodes_hl2])),\n",
    "                     'biases':tf.Variable(tf.random_normal([n_nodes_hl2]))}\n",
    "    \n",
    "    hidden_layer_3 = {'Weights':tf.Variable(tf.random_normal([n_nodes_hl2,n_nodes_hl3])),\n",
    "                     'biases':tf.Variable(tf.random_normal([n_nodes_hl3]))}\n",
    "    \n",
    "    output_layer = {'Weights':tf.Variable(tf.random_normal([n_nodes_hl3,n_classes])),\n",
    "                     'biases':tf.Variable(tf.random_normal([n_classes]))}\n",
    "    \n",
    "    l1 = tf.add(tf.matmul(data, hidden_layer_1['Weights']), hidden_layer_1['biases'])\n",
    "    l1 = tf.nn.relu(l1)\n",
    "    \n",
    "    l2 = tf.add(tf.matmul(l1, hidden_layer_2['Weights']), hidden_layer_2['biases'])\n",
    "    l2 = tf.nn.relu(l2)\n",
    "    \n",
    "    l3 = tf.add(tf.matmul(l2, hidden_layer_3['Weights']), hidden_layer_3['biases'])\n",
    "    l3 = tf.nn.relu(l3)\n",
    "    \n",
    "    output = tf.add(tf.matmul(l3, output_layer['Weights']), output_layer['biases'])\n",
    " \n",
    "    return output"
   ]
  },
  {
   "cell_type": "code",
   "execution_count": 49,
   "metadata": {},
   "outputs": [
    {
     "name": "stdout",
     "output_type": "stream",
     "text": [
      "Epoch 0 completed out of 10 loss:  1683882.45468\n",
      "Epoch 1 completed out of 10 loss:  388390.685524\n",
      "Epoch 2 completed out of 10 loss:  208075.860565\n",
      "Epoch 3 completed out of 10 loss:  120530.435566\n",
      "Epoch 4 completed out of 10 loss:  73695.870473\n",
      "Epoch 5 completed out of 10 loss:  45921.7156533\n",
      "Epoch 6 completed out of 10 loss:  32144.9446572\n",
      "Epoch 7 completed out of 10 loss:  25270.3447558\n",
      "Epoch 8 completed out of 10 loss:  21266.9249277\n",
      "Epoch 9 completed out of 10 loss:  17575.8923841\n",
      "Accuracy:  0.9467\n"
     ]
    }
   ],
   "source": [
    "\n",
    "################ TRAINING THE NEURAL NETWORK ########################\n",
    "def train_network(x): \n",
    "    \n",
    "    prediction = neural_network_model(x)\n",
    "    \n",
    "    cost = tf.reduce_mean(tf.nn.softmax_cross_entropy_with_logits_v2(logits = prediction, labels = y))\n",
    "    optimizer = tf.train.AdamOptimizer().minimize(cost)\n",
    "    \n",
    "    #feed_forwards + backprops\n",
    "    hm_epochs = 10\n",
    "    \n",
    "    with tf.Session() as sess: \n",
    "        sess.run(tf.global_variables_initializer())\n",
    "        \n",
    "        for epoch in range(hm_epochs):\n",
    "            epoch_loss= 0 \n",
    "            for _ in range(int(mnist.train.num_examples/batch_size)):\n",
    "                epoch_x,epoch_y = mnist.train.next_batch(batch_size)\n",
    "                _ , c= sess.run([optimizer,cost], feed_dict = {x:epoch_x, y:epoch_y})\n",
    "                epoch_loss += c\n",
    "            print(\"Epoch\",epoch, 'completed out of',hm_epochs,'loss: ', epoch_loss)\n",
    "        correct = tf.equal(tf.argmax(prediction,1), tf.argmax(y,1))\n",
    "        accuracy = tf.reduce_mean(tf.cast(correct,'float'))\n",
    "        print('Accuracy: ', accuracy.eval({x:mnist.test.images, y: mnist.test.labels}))\n",
    "            "
   ]
  },
  {
   "cell_type": "code",
   "execution_count": null,
   "metadata": {},
   "outputs": [],
   "source": []
  },
  {
   "cell_type": "raw",
   "metadata": {},
   "source": []
  }
 ],
 "metadata": {
  "kernelspec": {
   "display_name": "Python 3",
   "language": "python",
   "name": "python3"
  },
  "language_info": {
   "codemirror_mode": {
    "name": "ipython",
    "version": 3
   },
   "file_extension": ".py",
   "mimetype": "text/x-python",
   "name": "python",
   "nbconvert_exporter": "python",
   "pygments_lexer": "ipython3",
   "version": "3.6.1"
  }
 },
 "nbformat": 4,
 "nbformat_minor": 2
}
