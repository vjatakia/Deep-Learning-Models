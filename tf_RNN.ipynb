{
 "cells": [
  {
   "cell_type": "code",
   "execution_count": 41,
   "metadata": {
    "collapsed": true
   },
   "outputs": [],
   "source": [
    "import tensorflow as tf\n",
    "from tensorflow.examples.tutorials.mnist import input_data\n",
    "from tensorflow.python.ops import rnn,rnn_cell\n",
    "from tensorflow.contrib import rnn"
   ]
  },
  {
   "cell_type": "code",
   "execution_count": 2,
   "metadata": {},
   "outputs": [
    {
     "name": "stdout",
     "output_type": "stream",
     "text": [
      "Extracting /tmp/data/train-images-idx3-ubyte.gz\n",
      "Extracting /tmp/data/train-labels-idx1-ubyte.gz\n",
      "Extracting /tmp/data/t10k-images-idx3-ubyte.gz\n",
      "Extracting /tmp/data/t10k-labels-idx1-ubyte.gz\n"
     ]
    }
   ],
   "source": [
    "mnist = input_data.read_data_sets(\"/tmp/data/\", one_hot = True) #one hot is useful for multiclass classification"
   ]
  },
  {
   "cell_type": "code",
   "execution_count": 28,
   "metadata": {
    "collapsed": true
   },
   "outputs": [],
   "source": [
    "hm_epochs = 3\n",
    "n_classes = 10 #no of classes [0-9] \n",
    "batch_size = 128\n",
    "\n",
    "chunk_size = 28\n",
    "n_chunks = 28\n",
    "rnn_size = 128"
   ]
  },
  {
   "cell_type": "code",
   "execution_count": 29,
   "metadata": {
    "collapsed": true
   },
   "outputs": [],
   "source": [
    "#height x width\n",
    "x = tf.placeholder('float', [None, n_chunks,chunk_size])\n",
    "y = tf.placeholder('float')"
   ]
  },
  {
   "cell_type": "code",
   "execution_count": 48,
   "metadata": {
    "collapsed": true
   },
   "outputs": [],
   "source": [
    "##################### DEFINING THE COMPUTATIONAL GRAPH ##############################\n",
    "\n",
    "#(input *weights)+biases\n",
    "def rnn_model(x):\n",
    "    \n",
    "    layer = {'Weights':tf.Variable(tf.random_normal([rnn_size,n_classes])),\n",
    "             'biases':tf.Variable(tf.random_normal([n_classes]))}\n",
    "    \n",
    "    x = tf.transpose(x,[1,0,2])\n",
    "    x = tf.reshape(x,[-1,chunk_size])\n",
    "    x = tf.split(x,n_chunks,0)\n",
    "    \n",
    "    lstm = rnn.BasicLSTMCell(rnn_size, state_is_tuple=True)\n",
    "    outputs, states = rnn.static_rnn(lstm, x, dtype=tf.float32)\n",
    "    \n",
    "    output = tf.add(tf.matmul(outputs[-1], layer['Weights']), layer['biases'])\n",
    " \n",
    "    return output"
   ]
  },
  {
   "cell_type": "code",
   "execution_count": 49,
   "metadata": {},
   "outputs": [],
   "source": [
    "\n",
    "################ TRAINING THE NEURAL NETWORK ########################\n",
    "def train_network(x): \n",
    "    \n",
    "    prediction = rnn_model(x)\n",
    "    \n",
    "    cost = tf.reduce_mean(tf.nn.softmax_cross_entropy_with_logits_v2(logits = prediction, labels = y))\n",
    "    optimizer = tf.train.AdamOptimizer().minimize(cost)\n",
    "    \n",
    "    #feed_forwards + backprops\n",
    "    hm_epochs = 10\n",
    "    \n",
    "    with tf.Session() as sess: \n",
    "        sess.run(tf.global_variables_initializer())\n",
    "        \n",
    "        for epoch in range(hm_epochs):\n",
    "            epoch_loss= 0 \n",
    "            for _ in range(int(mnist.train.num_examples/batch_size)):\n",
    "                epoch_x,epoch_y = mnist.train.next_batch(batch_size)\n",
    "                \n",
    "                epoch_x = epoch_x.reshape((batch_size,n_chunks,chunk_size))\n",
    "                \n",
    "                _ , c= sess.run([optimizer,cost], feed_dict = {x:epoch_x, y:epoch_y})\n",
    "                epoch_loss += c\n",
    "            print(\"Epoch\",epoch, 'completed out of',hm_epochs,'loss: ', epoch_loss)\n",
    "        correct = tf.equal(tf.argmax(prediction,1), tf.argmax(y,1))\n",
    "        accuracy = tf.reduce_mean(tf.cast(correct,'float'))\n",
    "        print('Accuracy: ', accuracy.eval({x:mnist.test.images.reshape((-1,n_chunks,chunk_size)), y: mnist.test.labels}))\n",
    "            "
   ]
  },
  {
   "cell_type": "code",
   "execution_count": 50,
   "metadata": {},
   "outputs": [
    {
     "name": "stdout",
     "output_type": "stream",
     "text": [
      "Epoch 0 completed out of 10 loss:  203.03490328\n",
      "Epoch 1 completed out of 10 loss:  58.6574071348\n",
      "Epoch 2 completed out of 10 loss:  39.68665832\n",
      "Epoch 3 completed out of 10 loss:  31.0281607411\n",
      "Epoch 4 completed out of 10 loss:  25.16168012\n",
      "Epoch 5 completed out of 10 loss:  22.1253910875\n",
      "Epoch 6 completed out of 10 loss:  18.6101591513\n",
      "Epoch 7 completed out of 10 loss:  16.4461815127\n",
      "Epoch 8 completed out of 10 loss:  14.1391159787\n",
      "Epoch 9 completed out of 10 loss:  13.4308426724\n",
      "Accuracy:  0.9858\n"
     ]
    }
   ],
   "source": [
    "train_network(x)"
   ]
  },
  {
   "cell_type": "raw",
   "metadata": {},
   "source": []
  }
 ],
 "metadata": {
  "kernelspec": {
   "display_name": "Python 3",
   "language": "python",
   "name": "python3"
  },
  "language_info": {
   "codemirror_mode": {
    "name": "ipython",
    "version": 3
   },
   "file_extension": ".py",
   "mimetype": "text/x-python",
   "name": "python",
   "nbconvert_exporter": "python",
   "pygments_lexer": "ipython3",
   "version": "3.6.1"
  }
 },
 "nbformat": 4,
 "nbformat_minor": 2
}
